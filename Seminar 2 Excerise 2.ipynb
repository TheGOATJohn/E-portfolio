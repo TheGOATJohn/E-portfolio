{
 "cells": [
  {
   "cell_type": "code",
   "execution_count": null,
   "metadata": {},
   "outputs": [],
   "source": [
    "list = [\"apples, oranges, pears, grapefruits, bananas\"]\n",
    "t = (\"cat\", \"mouse\", \"dog\")\n",
    "print(t)\n",
    "\n",
    "thisdict = {\n",
    " \"name:\" \"Java\", \"Javascript\", \"Python\"\n",
    " \"release-date\" ,\"1996\", \"1995\", \"1991\"\n",
    "}\n",
    "print(thisdict)\n",
    "\n",
    "thisset = {\"blue\", \"yellow\", \"orange\"}\n",
    "print(thisset)\n",
    "\n",
    "\n",
    "python = (\"Python is an easy programming language to learn\")\n",
    "print(python)"
   ]
  }
 ],
 "metadata": {
  "language_info": {
   "name": "python"
  }
 },
 "nbformat": 4,
 "nbformat_minor": 2
}
