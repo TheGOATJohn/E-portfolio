{
 "cells": [
  {
   "cell_type": "code",
   "execution_count": null,
   "metadata": {},
   "outputs": [],
   "source": [
    "import string\n",
    "\n",
    "def check_password_strength(password):\n",
    "    # Initialize flags for each criterion\n",
    "    is_long_enough = len(password) >= 8\n",
    "    has_uppercase = any(char.isupper() for char in password)\n",
    "    has_lowercase = any(char.islower() for char in password)\n",
    "    has_special_char = any(char in string.punctuation for char in password)\n",
    "\n",
    "    # Check which criteria the password fails to meet\n",
    "    failed_criteria = []\n",
    "    if not is_long_enough:\n",
    "        failed_criteria.append(\"be at least 8 characters long\")\n",
    "    if not has_uppercase:\n",
    "        failed_criteria.append(\"contain at least one uppercase letter\")\n",
    "    if not has_lowercase:\n",
    "        failed_criteria.append(\"contain at least one lowercase letter\")\n",
    "    if not has_special_char:\n",
    "        failed_criteria.append(\"contain at least one special character\")\n",
    "\n",
    "    # Print the result\n",
    "    if not failed_criteria:\n",
    "        print(\"Password is strong\")\n",
    "    else:\n",
    "        print(\"Password must \" + \", \".join(failed_criteria) + \".\")\n",
    "\n",
    "# Example usage\n",
    "password = input(\"Enter a password to check: \")\n",
    "check_password_strength(password)\n"
   ]
  }
 ],
 "metadata": {
  "language_info": {
   "name": "python"
  }
 },
 "nbformat": 4,
 "nbformat_minor": 2
}
