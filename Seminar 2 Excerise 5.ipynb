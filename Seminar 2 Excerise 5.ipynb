{
 "cells": [
  {
   "cell_type": "code",
   "execution_count": null,
   "metadata": {},
   "outputs": [],
   "source": [
    "1.# Function to calculate the sum of two numbers\n",
    "def add_numbers(num1, num2):\n",
    "    return num1 + num2\n",
    "\n",
    "# Example usage\n",
    "result = add_numbers(5, 7)\n",
    "print(\"The sum is:\", result)\n",
    "\n",
    "\n",
    "2.# Function to find the largest number in a list\n",
    "def find_largest_number(numbers):\n",
    "    if not numbers:\n",
    "        raise ValueError(\"The list is empty. Please provide a non-empty list.\")\n",
    "    return max(numbers)\n",
    "\n",
    "# Example usage\n",
    "numbers_list = [3, 7, 2, 8, 10, 4]\n",
    "largest_number = find_largest_number(numbers_list)\n",
    "print(\"The largest number is:\", largest_number)\n",
    "\n",
    "3. # Function to count the number of vowels in a string\n",
    "def count_vowels(input_string):\n",
    "    # Define the set of vowels\n",
    "    vowels = \"aeiouAEIOU\"\n",
    "    # Initialize a counter\n",
    "    count = 0\n",
    "    \n",
    "    # Loop through each character in the string\n",
    "    for char in input_string:\n",
    "        if char in vowels:\n",
    "            count += 1\n",
    "    \n",
    "    return count\n",
    "\n",
    "# Example usage\n",
    "input_str = \"Hello, World!\"\n",
    "vowel_count = count_vowels(input_str)\n",
    "print(\"The number of vowels in the string is:\", vowel_count)\n",
    "\n",
    "\n",
    "\n"
   ]
  }
 ],
 "metadata": {
  "language_info": {
   "name": "python"
  }
 },
 "nbformat": 4,
 "nbformat_minor": 2
}
