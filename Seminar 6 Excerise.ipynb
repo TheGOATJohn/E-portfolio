{
 "cells": [
  {
   "cell_type": "code",
   "execution_count": 2,
   "metadata": {},
   "outputs": [
    {
     "name": "stdout",
     "output_type": "stream",
     "text": [
      "Address: 192.168.1.1\n",
      "Network: 192.168.1.0/24\n",
      "Netmask: 255.255.255.0\n",
      "Broadcast: 192.168.1.255\n",
      "Is private: True\n",
      "Is global: False\n",
      "First usable host: 192.168.1.1\n",
      "Last usable host: 192.168.1.254\n",
      "Number of usable hosts: 254\n",
      "\n",
      "New Network with CIDR /28:\n",
      "New Network Address: 192.168.1.0\n",
      "New Netmask: 255.255.255.240\n",
      "New Broadcast Address: 192.168.1.15\n",
      "Number of Usable Hosts: 14\n"
     ]
    }
   ],
   "source": [
    "import ipaddress\n",
    "\n",
    "def analyse_ip(ip_str, new_prefix=None):\n",
    "    # Create an IP interface object\n",
    "    ip = ipaddress.ip_interface(ip_str)\n",
    "    network = ip.network\n",
    "    \n",
    "    print(f\"Address: {ip.ip}\")\n",
    "    print(f\"Network: {network}\")\n",
    "    print(f\"Netmask: {network.netmask}\")\n",
    "    print(f\"Broadcast: {network.broadcast_address}\")\n",
    "    print(f\"Is private: {ip.ip.is_private}\")\n",
    "    print(f\"Is global: {ip.ip.is_global}\")\n",
    "    \n",
    "    # First and last usable host\n",
    "    all_hosts = list(network.hosts())\n",
    "    if all_hosts:\n",
    "        print(f\"First usable host: {all_hosts[0]}\")\n",
    "        print(f\"Last usable host: {all_hosts[-1]}\")\n",
    "    else:\n",
    "        print(\"No usable hosts in this network.\")\n",
    "\n",
    "    # Number of usable hosts\n",
    "    usable_hosts = max(network.num_addresses - 2, 0)  # Subtract network and broadcast addresses\n",
    "    print(f\"Number of usable hosts: {usable_hosts}\")\n",
    "\n",
    "    # List all hosts in small networks\n",
    "    if network.num_addresses < 256:\n",
    "        print(\"\\nHosts in network:\")\n",
    "        for host in network.hosts():\n",
    "            print(host)\n",
    "    \n",
    "    # Change CIDR prefix and compare networks\n",
    "    if new_prefix:\n",
    "        new_network = ipaddress.ip_network(f\"{ip.ip}/{new_prefix}\", strict=False)\n",
    "        print(\"\\nNew Network with CIDR /{}:\".format(new_prefix))\n",
    "        print(f\"New Network Address: {new_network.network_address}\")\n",
    "        print(f\"New Netmask: {new_network.netmask}\")\n",
    "        print(f\"New Broadcast Address: {new_network.broadcast_address}\")\n",
    "        print(f\"Number of Usable Hosts: {max(new_network.num_addresses - 2, 0)}\")\n",
    "\n",
    "# Example usage\n",
    "analyse_ip('192.168.1.1/24', new_prefix=28)\n"
   ]
  }
 ],
 "metadata": {
  "kernelspec": {
   "display_name": "Python 3",
   "language": "python",
   "name": "python3"
  },
  "language_info": {
   "codemirror_mode": {
    "name": "ipython",
    "version": 3
   },
   "file_extension": ".py",
   "mimetype": "text/x-python",
   "name": "python",
   "nbconvert_exporter": "python",
   "pygments_lexer": "ipython3",
   "version": "3.12.6"
  }
 },
 "nbformat": 4,
 "nbformat_minor": 2
}
