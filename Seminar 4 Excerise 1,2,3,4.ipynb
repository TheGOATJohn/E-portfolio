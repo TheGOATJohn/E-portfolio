{
 "cells": [
  {
   "cell_type": "code",
   "execution_count": 7,
   "metadata": {},
   "outputs": [
    {
     "ename": "ModuleNotFoundError",
     "evalue": "No module named 'cryptography'",
     "output_type": "error",
     "traceback": [
      "\u001b[1;31m---------------------------------------------------------------------------\u001b[0m",
      "\u001b[1;31mModuleNotFoundError\u001b[0m                       Traceback (most recent call last)",
      "Cell \u001b[1;32mIn[7], line 4\u001b[0m\n\u001b[0;32m      2\u001b[0m \u001b[38;5;28;01mimport\u001b[39;00m\u001b[38;5;250m \u001b[39m\u001b[38;5;21;01mthreading\u001b[39;00m\n\u001b[0;32m      3\u001b[0m \u001b[38;5;28;01mimport\u001b[39;00m\u001b[38;5;250m \u001b[39m\u001b[38;5;21;01mjson\u001b[39;00m\n\u001b[1;32m----> 4\u001b[0m \u001b[38;5;28;01mfrom\u001b[39;00m\u001b[38;5;250m \u001b[39m\u001b[38;5;21;01mcryptography\u001b[39;00m\u001b[38;5;21;01m.\u001b[39;00m\u001b[38;5;21;01mfernet\u001b[39;00m\u001b[38;5;250m \u001b[39m\u001b[38;5;28;01mimport\u001b[39;00m Fernet\n\u001b[0;32m      6\u001b[0m \u001b[38;5;66;03m# Generate an encryption key (store this securely in a real application)\u001b[39;00m\n\u001b[0;32m      7\u001b[0m KEY \u001b[38;5;241m=\u001b[39m Fernet\u001b[38;5;241m.\u001b[39mgenerate_key()\n",
      "\u001b[1;31mModuleNotFoundError\u001b[0m: No module named 'cryptography'"
     ]
    }
   ],
   "source": [
    "import socket\n",
    "import threading\n",
    "import json\n",
    "from cryptography.fernet import Fernet\n",
    "\n",
    "# Generate an encryption key (store this securely in a real application)\n",
    "KEY = Fernet.generate_key()\n",
    "cipher = Fernet(KEY)\n",
    "\n",
    "# User authentication data (in a real system, use a database)\n",
    "users = {\"user1\": \"password1\", \"user2\": \"password2\"}\n",
    "active_users = {}  # Stores username and IP info\n",
    "\n",
    "server_socket = socket.socket(socket.AF_INET, socket.SOCK_DGRAM)\n",
    "server_address = ('localhost', 65433)\n",
    "server_socket.bind(server_address)\n",
    "\n",
    "print(\"Server is running...\")\n",
    "\n",
    "def decrypt_message(encrypted_message):\n",
    "    return cipher.decrypt(encrypted_message).decode()\n",
    "\n",
    "def handle_client():\n",
    "    while True:\n",
    "        data, client_address = server_socket.recvfrom(4096)\n",
    "        try:\n",
    "            message = json.loads(data.decode())\n",
    "            if message.get(\"type\") == \"auth\":\n",
    "                username = message.get(\"username\")\n",
    "                password = message.get(\"password\")\n",
    "                if users.get(username) == password:\n",
    "                    active_users[username] = client_address\n",
    "                    response = {\"status\": \"success\", \"message\": \"Authenticated\"}\n",
    "                else:\n",
    "                    response = {\"status\": \"fail\", \"message\": \"Invalid credentials\"}\n",
    "                server_socket.sendto(json.dumps(response).encode(), client_address)\n",
    "            elif message.get(\"type\") == \"chat\":\n",
    "                sender = message.get(\"username\")\n",
    "                encrypted_msg = message.get(\"message\").encode()\n",
    "                decrypted_msg = decrypt_message(encrypted_msg)\n",
    "                print(f\"{sender} ({client_address}): {decrypted_msg}\")\n",
    "                for user, addr in active_users.items():\n",
    "                    if addr != client_address:\n",
    "                        server_socket.sendto(json.dumps({\"sender\": sender, \"message\": encrypted_msg.decode()}).encode(), addr)\n",
    "        except Exception as e:\n",
    "            print(f\"Error: {e}\")\n",
    "\n",
    "threading.Thread(target=handle_client, daemon=True).start()"
   ]
  },
  {
   "cell_type": "code",
   "execution_count": null,
   "metadata": {},
   "outputs": [],
   "source": []
  }
 ],
 "metadata": {
  "kernelspec": {
   "display_name": "Python 3",
   "language": "python",
   "name": "python3"
  },
  "language_info": {
   "codemirror_mode": {
    "name": "ipython",
    "version": 3
   },
   "file_extension": ".py",
   "mimetype": "text/x-python",
   "name": "python",
   "nbconvert_exporter": "python",
   "pygments_lexer": "ipython3",
   "version": "3.12.6"
  }
 },
 "nbformat": 4,
 "nbformat_minor": 2
}
