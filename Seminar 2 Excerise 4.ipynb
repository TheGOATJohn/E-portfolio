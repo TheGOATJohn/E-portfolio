{
 "cells": [
  {
   "cell_type": "code",
   "execution_count": null,
   "metadata": {},
   "outputs": [],
   "source": [
    "1. # Script to print numbers from 1 to 10 using a for loop\n",
    "for number in range(1, 11):\n",
    "    print(number)\n",
    "\n",
    "\n",
    "2.  # Script to print even numbers from 2 to 10 using a for loop\n",
    "for number in range(2, 11, 2):\n",
    "    print(number)\n",
    "\n",
    "3. # Script to print the first 5 numbers of the Fibonacci sequence\n",
    "def fibonacci_sequence():\n",
    "    # Initialize the first two numbers of the Fibonacci sequence\n",
    "    a, b = 0, 1\n",
    "    count = 0\n",
    "\n",
    "    # Loop to generate and print the first 5 numbers\n",
    "    while count < 5:\n",
    "        print(a)\n",
    "        # Update the values for the next iteration\n",
    "        a, b = b, a + b\n",
    "        count += 1\n",
    "\n",
    "# Call the function\n",
    "fibonacci_sequence()\n",
    "\n"
   ]
  }
 ],
 "metadata": {
  "language_info": {
   "name": "python"
  }
 },
 "nbformat": 4,
 "nbformat_minor": 2
}
