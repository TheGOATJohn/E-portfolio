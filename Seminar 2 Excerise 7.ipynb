{
 "cells": [
  {
   "cell_type": "code",
   "execution_count": null,
   "metadata": {},
   "outputs": [],
   "source": [
    "def caesar_cipher(message, key, mode):\n",
    "    result = \"\"\n",
    "    key = key % 26  # Ensure the key wraps around for large values\n",
    "\n",
    "    for char in message:\n",
    "        # Check if the character is an uppercase letter\n",
    "        if char.isupper():\n",
    "            # Calculate the shifted character\n",
    "            shift = key if mode == \"encrypt\" else -key\n",
    "            new_char = chr((ord(char) - 65 + shift) % 26 + 65)\n",
    "            result += new_char\n",
    "        # Check if the character is a lowercase letter\n",
    "        elif char.islower():\n",
    "            # Calculate the shifted character\n",
    "            shift = key if mode == \"encrypt\" else -key\n",
    "            new_char = chr((ord(char) - 97 + shift) % 26 + 97)\n",
    "            result += new_char\n",
    "        else:\n",
    "            # Non-alphabetic characters remain unchanged\n",
    "            result += char\n",
    "\n",
    "    return result\n",
    "\n",
    "# Example usage\n",
    "message = input(\"Enter the message: \")\n",
    "key = int(input(\"Enter the key: \"))\n",
    "mode = input(\"Enter the mode (encrypt or decrypt): \").lower()\n",
    "\n",
    "if mode not in [\"encrypt\", \"decrypt\"]:\n",
    "    print(\"Invalid mode. Please enter 'encrypt' or 'decrypt'.\")\n",
    "else:\n",
    "    output = caesar_cipher(message, key, mode)\n",
    "    print(\"Output:\", output)\n"
   ]
  }
 ],
 "metadata": {
  "language_info": {
   "name": "python"
  }
 },
 "nbformat": 4,
 "nbformat_minor": 2
}
